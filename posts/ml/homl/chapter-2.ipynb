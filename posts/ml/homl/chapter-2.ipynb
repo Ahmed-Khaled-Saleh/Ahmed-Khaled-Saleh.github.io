{
  "cells": [
    {
      "cell_type": "raw",
      "metadata": {},
      "source": [
        "---\n",
        "title: \"Chapter 2: End-to-End Machine Learning Project\"\n",
        "author: \"Ahmed Khaled\"\n",
        "date: \"2023-02-14\"\n",
        "categories: [Machine learning, HOML]\n",
        "toc: true\n",
        "image: \"./imgs/img.png\"\n",
        "execute:\n",
        "  freeze: auto\n",
        "  cache: true\n",
        "\n",
        "---"
      ],
      "id": "393b6359"
    },
    {
      "cell_type": "markdown",
      "metadata": {},
      "source": [
        "When starting a new code, try to import all the libraries you gonna need. The function ```init_session()``` is here to set the random seed to 42, so that the results are reproducible. It alse enables the warnings to be ignored (because this might be annoying).\n"
      ],
      "id": "1ce4e192"
    },
    {
      "cell_type": "code",
      "metadata": {},
      "source": [
        "#| warning: false\n",
        "\n",
        "import random, os, sys\n",
        "import shutil \n",
        "from pathlib import Path\n",
        "import numpy as np\n",
        "import pandas as pd\n",
        "import matplotlib.pyplot as plt\n",
        "import seaborn as sns\n",
        "import sklearn\n",
        "import urllib\n",
        "\n",
        "\n",
        "def init_session(RANDOM_SEED = 42):\n",
        "    RANDOM_SEED = RANDOM_SEED\n",
        "    np.random.seed(RANDOM_SEED)\n",
        "    random.seed(RANDOM_SEED)\n",
        "    import warnings\n",
        "    warnings.filterwarnings('ignore')\n",
        "init_session()"
      ],
      "id": "b5f778ea",
      "execution_count": null,
      "outputs": []
    },
    {
      "cell_type": "markdown",
      "metadata": {},
      "source": [
        "## Getting the data\n",
        "First things first, you should get the data from the source. This source could be a sensor reading, a database, a website, or a file. In this case, the data is a CSV file. You can download it from the author's github repository. The function ```DataFetcher()``` is here to download the data from the source and return a pandas dataframe. The function takes the source as an argument. The source is the URL of the data. The function checks if the data is already downloaded, if not, it downloads it and returns the dataframe. The function also creates a datasets folder if it doesn't exist.\n"
      ],
      "id": "de868e91"
    },
    {
      "cell_type": "code",
      "metadata": {},
      "source": [
        "def DataFetcher(*, source):\n",
        "\n",
        "    file_name = Path(source).name #housing.tgz\n",
        "    compressed_path = Path(os.path.join(\"datasets\", file_name))#datasets/housing.tgz\n",
        "    compressed_dir = str(compressed_path).split(\".\")[-2]#datasets/housing\n",
        "\n",
        "    if not compressed_path.is_file():\n",
        "        Path(\"datasets\").mkdir(parents=True, exist_ok=True)\n",
        "        urllib.request.urlretrieve(source, compressed_path)\n",
        "        shutil.unpack_archive(compressed_path, os.path.join(\"datasets\"))\n",
        "    return pd.read_csv(os.path.join(compressed_dir, file_name.split(\".\")[-2] + \".csv\"))"
      ],
      "id": "e170a92d",
      "execution_count": null,
      "outputs": []
    },
    {
      "cell_type": "markdown",
      "metadata": {},
      "source": [
        "Note\n",
        ": You can notice the * being passed before the source as the first parameter. In fact this is not a parameter but it's a feature in python >= 3.8 that makes the function take only keyword arguments. This is to make sure that the function is called with the source argument to avoid confusion when calling the function. In short, this enforces you to call all the function's parameters after * using keyword arguments.\n",
        "\n",
        "Now you can call the function like this:"
      ],
      "id": "a6659f35"
    },
    {
      "cell_type": "code",
      "metadata": {},
      "source": [
        "url = \"https://github.com/ageron/data/raw/main/housing.tgz\"\n",
        "housing = DataFetcher(source= url)"
      ],
      "id": "0280805e",
      "execution_count": null,
      "outputs": []
    },
    {
      "cell_type": "markdown",
      "metadata": {},
      "source": [
        "housing is now a dataframe. You can check this using:\n"
      ],
      "id": "5e5b2c9f"
    },
    {
      "cell_type": "code",
      "metadata": {},
      "source": [
        "type(housing)"
      ],
      "id": "4f8f4895",
      "execution_count": null,
      "outputs": []
    },
    {
      "cell_type": "markdown",
      "metadata": {},
      "source": [
        "Now, you can take a look at the data using the ```head()``` method. This method returns the first 5 rows of the dataframe. You can also pass the number of rows you want to see as an argument.\n"
      ],
      "id": "ea9d020e"
    },
    {
      "cell_type": "code",
      "metadata": {},
      "source": [
        "housing.head()"
      ],
      "id": "213e7e87",
      "execution_count": null,
      "outputs": []
    },
    {
      "cell_type": "markdown",
      "metadata": {},
      "source": [
        "Another handy function to summarize your data is the ```info()``` method. This method returns the number of rows, the number of columns, the column names, the data type of each column, and the number of non-null values in each column.\n"
      ],
      "id": "ce69910b"
    },
    {
      "cell_type": "code",
      "metadata": {},
      "source": [
        "housing.info()"
      ],
      "id": "a5994779",
      "execution_count": null,
      "outputs": []
    },
    {
      "cell_type": "markdown",
      "metadata": {},
      "source": [
        "You can also see the Dtype column in the output of the ```info()``` method. This column shows the data type of each column. You can see that the ocean_proximity column is an object. This means that it's a string. You can check the unique values of this column using the ```unique()``` method.\n"
      ],
      "id": "623cb6c3"
    },
    {
      "cell_type": "code",
      "metadata": {},
      "source": [
        "housing.ocean_proximity.unique()"
      ],
      "id": "80e652d2",
      "execution_count": null,
      "outputs": []
    },
    {
      "cell_type": "markdown",
      "metadata": {},
      "source": [
        "or you can use the ```value_counts()``` method to get the number of instances of each value.\n"
      ],
      "id": "81608568"
    },
    {
      "cell_type": "code",
      "metadata": {},
      "source": [
        "housing.ocean_proximity.value_counts()"
      ],
      "id": "7be85883",
      "execution_count": null,
      "outputs": []
    },
    {
      "cell_type": "markdown",
      "metadata": {},
      "source": [
        "Since most columns (Also called features, dependent variable, predictors, attributes) are numerical, you can use the ```describe()``` method to get the summary of the numerical columns. This is quite useful to get a quick overview of the data. We can see that this is literally a sumaary of statistics. The count, mean, std, min, max, and the percentiles AKA ```descriptive statistics```.\n"
      ],
      "id": "d9dd5a8e"
    },
    {
      "cell_type": "code",
      "metadata": {},
      "source": [
        "housing.describe()"
      ],
      "id": "b0d66d81",
      "execution_count": null,
      "outputs": []
    },
    {
      "cell_type": "markdown",
      "metadata": {},
      "source": [
        "### Creating a Test Set OR Sampling 101\n",
        "\n",
        "After you get the data, you should keep a test set aside, this test set is used to evaluate the performance of your model. There are different ways to assess the quality of your test set. One such metric is the **representativeness** of it, which means that your test set should resemble the original data as much as possible. The test set should be kept aside until the end of the project to avoid the **data snooping bias**.\n",
        "\n",
        "So, what is The **data snooping bias**? It is when you look at the test set and you tweak your model to perform better on the test set. This is not a good practice because you are not supposed to look at the test set until the end of the project. \n",
        "\n",
        "There is a saying in statistics:\n",
        "\n",
        "```\n",
        "    Torture the data until it confesses.\n",
        "```\n",
        "\n",
        "This is quite the same thing you ar doing here. You are tweaking the performance on a test set until it confesses. This is not a good practice. As a gneral rule, the test set is used to evaluate the performance of your model, not to tweak it. So, you should keep it aside until the end of the project.\n",
        "\n",
        "\n",
        "So, the question is how to choose a test set. On can split the data selectively, for example, you can choose the last 20% of the data as the test set. This is not a good practice because:\n",
        "\n",
        "- if you add new data, the last 20% of the data will change. So, you should not use this method. **(your test result is not reproducible)**.\n",
        "\n",
        "- If your data is not evenly distributed, you might be trabbed in selective bias. For example, if you have a dataset of 1000 instances and 20% of them are from California, and for your case those 200 instances are the last 200 instances in your data. The result is you will have 200 instances from California in the test set and no other data from anywhere else. This is not a good practice because you will have a biased test set. (**non-representativeness of the test set**).\n",
        "\n",
        "The last reason is an example of a phenomenon called **Sampling Bias**,one form of a bigger term **Selection Bias**, which refers to a falw in the process of choosing the data. Sampling Bias is a selection bias in the process of sampling a subset (sample) from the original data (the population).\n",
        "\n",
        "There are many ways to sample a subset from the original data. The most common ones are:\n",
        "\n",
        "- Simple Random Sampling\n",
        "- Stratified Random Sampling\n",
        "- Systematic Random Sampling\n",
        "- Cluster Sampling\n",
        "- Multistage Sampling\n",
        "\n",
        "The first two are of interest for us in this chapter. So let us start by the simplest case, the simple random sampling.\n",
        "\n",
        "#### Simple Random Sampling\n",
        "\n",
        "This process is quite simple. You just randomly select a subset of the data. This is the simplest way to sample a subset from the original data. You can do the following to sample a subset from the original data:\n",
        "\n",
        "\n",
        "- Shuffle the data based on the index.\n",
        "\n",
        "    - ```np.random.permutation(len(data))``` will return a list of indices of the data shuffled.\n",
        "\n",
        "- Define the size of the test set. You can specify a ration (0.2) and multiply it by the length of the data.\n",
        "\n",
        "    - ```int(len(data) * test_ratio)``` will return the size of the test set.\n",
        "\n",
        "\n",
        "- Generate two list of the indices; one for the training set and one for the test set.\n",
        "\n",
        "    - ```test_indices = shuffled_indices[:test_set_size]``` will return the indices of the test set.\n",
        "\n",
        "    - ```train_indices = shuffled_indices[test_set_size:]``` will return the indices of the training set.\n",
        "- Use the indices to select the data from the original data.\n",
        "    \n",
        "    - ```data.iloc[train_indices]``` will return the training set dataframe.\n",
        "\n",
        "    - ```data.iloc[test_indices]``` will return the test set dataframe.\n",
        "\n",
        "    This works because train_indices is a list of integers, and the ```iloc``` method takes a list of integers as an argument and returns the corresponding rows.\n",
        "    \n",
        "The following code illustrates the process of simple random sampling:\n"
      ],
      "id": "acb5e051"
    },
    {
      "cell_type": "code",
      "metadata": {
        "caption": "Simple Random Sampling",
        "width": "400px",
        "height": "400px",
        "alt": "Simple Random Sampling",
        "class": "center",
        "fig-class": "center",
        "attr": "align=\"center\""
      },
      "source": [
        "#| label: simple-random-sampling\n",
        "\n",
        "import numpy as np\n",
        "\n",
        "def shuffle_and_split_data(data, test_ratio):\n",
        "    np.random.seed(42)\n",
        "    shuffled_indices = np.random.permutation(len(data))\n",
        "    test_set_size = int(len(data) * test_ratio)\n",
        "    test_indices = shuffled_indices[:test_set_size]\n",
        "    train_indices = shuffled_indices[test_set_size:]\n",
        "    return data.iloc[train_indices], data.iloc[test_indices]"
      ],
      "id": "simple-random-sampling",
      "execution_count": null,
      "outputs": []
    },
    {
      "cell_type": "markdown",
      "metadata": {},
      "source": [
        "There are a problem with this approach:\n",
        "\n",
        "- If you run the program again, it will generate a different test set! Over time, you will get to see the whole dataset ``(data snooping bias again!!!)``, which is what we want to avoid.\n",
        "\n",
        "We can mitigate this problem by one of the following solutions:\n",
        "\n",
        "- Save the test set on the first run and then load it in subsequent runs.\n",
        "\n",
        "    - The problem here is that, loading the test set every time is a waste of time and space. So, you should only do this if the dataset is quite small.\n",
        "\n",
        "- Set the random number generator's seed (e.g., ```np.random.seed(42)``` before calling ```np.random.permutation()```) so that it always generates the same shuffled indices.\n",
        "\n",
        "    - This could be tricky to understand why this solution is not perfect. So, let us try it:\n"
      ],
      "id": "ab178fc5"
    },
    {
      "cell_type": "code",
      "metadata": {
        "caption": "Random seed expirement",
        "width": "400px",
        "height": "400px",
        "alt": "Random seed expirement",
        "class": "center",
        "fig-class": "center",
        "attr": "align=\"center\""
      },
      "source": [
        "#| label: random-seed-expirement\n",
        "\n",
        "train_1, test_1 = shuffle_and_split_data(housing, 0.2)"
      ],
      "id": "random-seed-expirement",
      "execution_count": null,
      "outputs": []
    },
    {
      "cell_type": "markdown",
      "metadata": {},
      "source": [
        "    - Now, let us run the code again:\n"
      ],
      "id": "74878a2b"
    },
    {
      "cell_type": "code",
      "metadata": {
        "caption": "Random seed expirement 2",
        "width": "400px",
        "height": "400px",
        "alt": "Random seed expirement 2",
        "class": "center",
        "fig-class": "center",
        "attr": "align=\"center\""
      },
      "source": [
        "#| label: random-seed-expirement-2\n",
        "housing = DataFetcher(source=url)\n",
        "train_2, test_2 = shuffle_and_split_data(housing, 0.2)\n",
        "\n",
        "print(train_1.equals(train_2))\n",
        "test_1.equals(test_2)"
      ],
      "id": "random-seed-expirement-2",
      "execution_count": null,
      "outputs": []
    },
    {
      "cell_type": "markdown",
      "metadata": {},
      "source": [
        "- Use each instance's identifier to decide whether or not it should go in the test set (assuming instances have a unique and immutable identifier). For example, you could compute a hash of each instance's identifier, keep only the last byte of the hash, and put the instance in the test set if this value is lower or equal to 51 (256 * 0.2 = 51.2). This ensures that the test set will remain consistent across multiple runs, even if you refresh the dataset. The new test set will contain 20% of the new instances, but it will not contain any instance that was previously in the training set.\n",
        "\n",
        "\n",
        "\n",
        "\n",
        "\n",
        "\n",
        "#### Stratified Random Sampling\n",
        "\n",
        "\n",
        "\n",
        "The following image illustrates the process of stratified random sampling:\n",
        "\n",
        "![stratified random sampling](./imgs/stra.png)\n",
        "\n",
        "\n",
        "\n",
        "\n",
        "## Exploring the data\n",
        "\n",
        "Next stage is to gain some insights by looking at your data. This is one of the most important steps in the machine learning pipeline. The effect of this step is that it will unlock some structure in the data, like the outliers, the missing values, the noise, and the correlation between the features. This will help you in the next steps of the pipeline.\n",
        "\n",
        "We shall start by visualizing the distribution of the features. This is done by plotting the histogram of each feature. The ```hist()``` method is used to plot the histogram. The ```bins``` argument is used to specify the number of bins. The ```figsize``` argument is used to specify the size of the figure. The ```plt.show()``` is used to display the figure.\n"
      ],
      "id": "c4370069"
    },
    {
      "cell_type": "code",
      "metadata": {},
      "source": [
        "#| label: fig-hist\n",
        "#| fig-cap: A histogram of the numerical features.\n",
        "housing.hist(bins=50, figsize=(10,8))\n",
        "plt.tight_layout()\n",
        "plt.show()"
      ],
      "id": "fig-hist",
      "execution_count": null,
      "outputs": []
    },
    {
      "cell_type": "markdown",
      "metadata": {},
      "source": [
        "@fig-hist is a histogram of the numerical features. We will dive into the kind of visualization that we should use according to the data type and the task in a separate blog post. For now, we can say that for numerical features, hisograms are the most suitable visualization type to use.\n",
        "\n",
        "\n",
        "\n",
        "<!--\n",
        "\n",
        "\n",
        "housing.columns\n",
        "\n",
        "\n",
        "\n",
        "\n",
        "housing.ocean_proximity.value_counts() -->\n",
        "\n",
        "\n",
        "<!-- \n",
        "housing.describe() \n",
        " -->\n",
        "\n",
        "\n",
        "<!-- housing.hist(bins=50, figsize=(20,15))\n",
        "plt.show()\n",
        "\n",
        "\n",
        "\n",
        "\n",
        "\n",
        "def create_test_set(data, test_set_ratio= 0.2):\n",
        "    shuffled_indices = np.random.permutation(len(data))\n",
        "    test_set_size = int(len(data) * test_set_ratio) # 20640 * 0.2 = 4128\n",
        "\n",
        "    test_set_indices = shuffled_indices[:test_set_size] # 0: 4127\n",
        "    train_set_indices = shuffled_indices[test_set_size:] # 4128:end\n",
        "\n",
        "    return data.iloc[train_set_indices], data.iloc[test_set_indices]\n",
        "\n",
        "train, test = create_test_set(housing)\n",
        "\n",
        "\n",
        "\n",
        "len(train), len(test)\n",
        "\n",
        "\n",
        "\n",
        "\n",
        "from zlib import crc32\n",
        "\n",
        "def is_id_in_test_set(identifier, test_ratio):\n",
        "    return crc32(np.int64(identifier)) < test_ratio * 2 ** 32\n",
        "\n",
        "def split_data_with_id_hash(data, test_ratio, id_column):\n",
        "    ids = data[id_column]\n",
        "    in_test_set = np.apply(lambda id_: is_id_in_test_set(id_, test_ratio))\n",
        "    return data.loc[~in_test_set], data.loc[in_test_set]\n",
        "\n",
        "# housing_with_id = housing.reset_index() # adds an index column\n",
        "# train_set, test_set = split_data_with_id_hash(housing_with_id, 0.2, \"index\") \n",
        "\n",
        "\n",
        "from sklearn.model_selection import train_test_split\n",
        "train_set_random, test_set_random = train_test_split(housing, test_size= 0.2, random_state= 42)\n",
        "len(train_set_random), len(test_set_random)\n",
        "\n",
        "\n",
        "housing['income_cat'] = pd.cut(housing[\"median_income\"],\n",
        "bins= [0., 1.5, 3.0, 4.5, 6., np.inf], labels= [1, 2, 3, 4, 5])\n",
        "\n",
        "\n",
        "housing['income_cat'].value_counts().sort_index().plot.bar(rot= 0, grid= True)\n",
        "plt.xlabel(\"Income Category\")\n",
        "plt.ylabel(\"Numbe of districts\")\n",
        "plt.show()\n",
        "\n",
        "\n",
        "\n",
        "from sklearn.model_selection import StratifiedShuffleSplit\n",
        "\n",
        "splitter = StratifiedShuffleSplit(n_splits= 10, test_size= 0.2, random_state= 42)\n",
        "\n",
        "strat_splits = []\n",
        "\n",
        "for train_index, test_index in splitter.split(housing, housing[\"income_cat\"]):\n",
        "    strat_train_set_n = housing.iloc[train_index]\n",
        "    strat_test_set_n = housing.loc[test_index]\n",
        "    strat_splits.append([strat_train_set_n, strat_test_set_n])\n",
        "\n",
        "strat_train_set, strat_test_set = strat_splits[0]\n",
        "\n",
        "\n",
        "\n",
        "strat_train_set, strat_test_set = train_test_split(housing, test_size= 0.2,\n",
        "stratify= housing[\"income_cat\"], random_state= 42)\n",
        "\n",
        "\n",
        "\n",
        "strat_train_set[\"income_cat\"].value_counts() / len(strat_train_set)\n",
        "\n",
        "\n",
        "\n",
        "housing = strat_train_set.copy()\n",
        "\n",
        "\n",
        "\n",
        "len(housing)\n",
        "\n",
        "\n",
        "\n",
        "housing.plot(kind= \"scatter\", x= \"longitude\", y=\"latitude\", grid= True,\n",
        "s= housing['population']/100, c= \"median_house_value\", cmap= \"jet\",\n",
        "colorbar= True, legend= True, figsize= (10, 7), label= \"population\", sharex= False)\n",
        "plt.show()\n",
        "\n",
        "\n",
        "\n",
        "corr_matrix = housing.corr()\n",
        "type(corr_matrix)\n",
        "\n",
        "\n",
        "\n",
        "corr_matrix[\"median_house_value\"].sort_values(ascending= False)\n",
        "\n",
        "\n",
        "\n",
        "from pandas.plotting import scatter_matrix\n",
        "\n",
        "attributes = [\"median_house_value\", \"median_income\", \"total_rooms\",\n",
        "              \"housing_median_age\"]\n",
        "scatter_matrix(housing[attributes], figsize=(12, 8))\n",
        "plt.show()\n",
        " --> \n"
      ],
      "id": "8ad45675"
    }
  ],
  "metadata": {
    "kernelspec": {
      "name": "python3",
      "language": "python",
      "display_name": "Python 3 (ipykernel)"
    }
  },
  "nbformat": 4,
  "nbformat_minor": 5
}